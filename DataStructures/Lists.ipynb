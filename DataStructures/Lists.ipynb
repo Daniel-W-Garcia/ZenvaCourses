﻿{
 "cells": [
  {
   "cell_type": "code",
   "id": "initial_id",
   "metadata": {
    "collapsed": true
   },
   "source": [
    "empty_list = []\n",
    "single_list = [1, 2, 3]\n",
    "list_of_lists = [[1, 2, 3], [4, 5, 6], [7, 8, 9]]\n",
    "\n",
    "element_at_index_4 = single_list[2]\n",
    "count_backwards_from_end = single_list[-1]"
   ],
   "outputs": [],
   "execution_count": null
  },
  {
   "metadata": {},
   "cell_type": "code",
   "source": [
    "print(element_at_index_4)\n",
    "print(count_backwards_from_end)"
   ],
   "id": "4950676d2a72fbcd",
   "outputs": [],
   "execution_count": null
  },
  {
   "metadata": {},
   "cell_type": "code",
   "source": [
    "single_list[0] = 5 #change value at index 0\n",
    "get_slice = single_list[0:2] #grabs index 0-1 9 does not include '2' in for this syntax\n",
    "print(f\"get_slice: {get_slice}\")\n",
    "get_slice[0:2] = [] #removes values\n",
    "print(f\"get_slice: {get_slice}\")"
   ],
   "id": "9892d82caacee558",
   "outputs": [],
   "execution_count": null
  },
  {
   "metadata": {},
   "cell_type": "code",
   "outputs": [],
   "execution_count": null,
   "source": "",
   "id": "eebb51910cfaa95b"
  }
 ],
 "metadata": {
  "kernelspec": {
   "display_name": "Python 3",
   "language": "python",
   "name": "python3"
  },
  "language_info": {
   "codemirror_mode": {
    "name": "ipython",
    "version": 2
   },
   "file_extension": ".py",
   "mimetype": "text/x-python",
   "name": "python",
   "nbconvert_exporter": "python",
   "pygments_lexer": "ipython2",
   "version": "2.7.6"
  }
 },
 "nbformat": 4,
 "nbformat_minor": 5
}
