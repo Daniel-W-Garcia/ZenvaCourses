﻿{
 "cells": [
  {
   "metadata": {},
   "cell_type": "code",
   "source": [
    "import numpy as np\n",
    "import pandas as pd\n",
    "import matplotlib.pyplot as plt"
   ],
   "id": "514cbdf96c5dca7e",
   "outputs": [],
   "execution_count": null
  },
  {
   "metadata": {
    "collapsed": true
   },
   "cell_type": "code",
   "source": [
    "df = pd.read_csv('flights.csv')\n",
    "\n",
    "print(df.head(10))\n",
    "print(df.info())\n",
    "print(df.isnull().sum())\n",
    "print(df.describe().round(2))\n",
    "print(df['Origin'].value_counts())"
   ],
   "id": "a8b1ed647fee24eb",
   "outputs": [],
   "execution_count": null
  },
  {
   "metadata": {},
   "cell_type": "code",
   "source": [
    "df['Year'] = df['Fly Date'].astype(str).str.slice(0,4).astype(int)\n",
    "\n",
    "print(df['Year'])\n",
    "flights_in_2000 = df[df['Year'] == 2000]\n",
    "print(flights_in_2000.head())"
   ],
   "id": "63df9723b2ffe182",
   "outputs": [],
   "execution_count": null
  },
  {
   "metadata": {},
   "cell_type": "code",
   "source": [
    "non_lax_flights = df[~df['Origin'].isin(['LAX'])] #tilde negates. so really saying 'is not in'\n",
    "print(non_lax_flights.head())\n",
    "print('LAX' in non_lax_flights['Origin'].unique())"
   ],
   "id": "3270dc4617bd23c",
   "outputs": [],
   "execution_count": null
  },
  {
   "metadata": {},
   "cell_type": "code",
   "source": [
    "passengers_and_distance = df[(df['Passengers'] > 100) & (df['Distance'] < 1000)]\n",
    "print(passengers_and_distance[['Passengers', 'Distance']])"
   ],
   "id": "6454bafefddc2330",
   "outputs": [],
   "execution_count": null
  },
  {
   "metadata": {},
   "cell_type": "code",
   "source": [
    "ny_la = df[(df['Origin City']).str.contains('New York|Los Angeles') | (df['Destination City'].str.contains('New York|Los Angeles'))]\n",
    "print(ny_la[['Origin City', 'Destination City']])\n",
    "print(ny_la.info())"
   ],
   "id": "6c6b33efbec9d30",
   "outputs": [],
   "execution_count": null
  },
  {
   "metadata": {},
   "cell_type": "code",
   "source": [
    "large_origin = df[df['Origin Population'] > 1000000]\n",
    "print(large_origin[['Origin Population', 'Origin City']])"
   ],
   "id": "f213224e793344ea",
   "outputs": [],
   "execution_count": null
  },
  {
   "metadata": {},
   "cell_type": "code",
   "source": [
    "underbooked = df.query('Seats > Passengers')\n",
    "print(underbooked[['Seats', 'Passengers']])"
   ],
   "id": "884bdd62a619b68f",
   "outputs": [],
   "execution_count": null
  },
  {
   "metadata": {},
   "cell_type": "code",
   "source": [
    "busy_shorthaul = df.query('Distance < 500 & Flights > 10')\n",
    "print(busy_shorthaul [['Distance', 'Flights']])\n",
    "busy_shorthaul.to_csv('shorthaul.csv')\n"
   ],
   "id": "fb6cb8eef6221b15",
   "outputs": [],
   "execution_count": null
  }
 ],
 "metadata": {
  "kernelspec": {
   "display_name": "Python 3",
   "language": "python",
   "name": "python3"
  },
  "language_info": {
   "codemirror_mode": {
    "name": "ipython",
    "version": 2
   },
   "file_extension": ".py",
   "mimetype": "text/x-python",
   "name": "python",
   "nbconvert_exporter": "python",
   "pygments_lexer": "ipython2",
   "version": "2.7.6"
  }
 },
 "nbformat": 4,
 "nbformat_minor": 5
}
