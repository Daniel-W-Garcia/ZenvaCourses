﻿{
 "cells": [
  {
   "cell_type": "code",
   "id": "initial_id",
   "metadata": {
    "collapsed": true
   },
   "source": [
    "import numpy as np\n",
    "import pandas as pd\n",
    "import matplotlib.pyplot as plt"
   ],
   "outputs": [],
   "execution_count": null
  },
  {
   "metadata": {},
   "cell_type": "code",
   "source": "df = pd.read_csv('flights.csv')",
   "id": "2da591e879bc5c20",
   "outputs": [],
   "execution_count": null
  },
  {
   "metadata": {},
   "cell_type": "code",
   "source": [
    "busiest_routes = df.groupby(['Origin', 'Destination']).agg({'Passengers' : 'sum'})\n",
    "busiest_routes = busiest_routes.sort_values(by='Passengers', ascending=False)\n",
    "print(busiest_routes.head())"
   ],
   "id": "872ad47978a17daf",
   "outputs": [],
   "execution_count": null
  },
  {
   "metadata": {},
   "cell_type": "code",
   "source": [
    "busiest_routes = df.groupby(['Origin', 'Destination']).agg({'Passengers' : 'sum', 'Flights' : 'sum'})\n",
    "busiest_routes = busiest_routes.sort_values(by=['Passengers', 'Flights'], ascending=[False, False])\n",
    "print(busiest_routes.head(10))"
   ],
   "id": "2008f17c858a1f0c",
   "outputs": [],
   "execution_count": null
  },
  {
   "metadata": {},
   "cell_type": "code",
   "source": [
    "df['Month'] = pd.to_datetime(df['Fly Date'], format='%Y%m').dt.to_period('M')\n",
    "monthly_trends = df.groupby('Month').agg({'Flights': 'sum'})\n",
    "monthly_trends = monthly_trends.sort_values(by='Month')\n",
    "print(monthly_trends)"
   ],
   "id": "9204321ee5c3eccc",
   "outputs": [],
   "execution_count": null
  },
  {
   "metadata": {},
   "cell_type": "code",
   "source": [
    "distance_bins = pd.cut(df['Distance'], bins=[0, 500, 1000, 2000, 3000, 4000, df['Distance'].max()])\n",
    "distance_group = df.groupby(distance_bins).agg({'Flights': 'sum', 'Passengers': 'sum'})\n",
    "print(distance_group.sort_values(by='Distance', ascending=False))"
   ],
   "id": "ebad6ae84979bc63",
   "outputs": [],
   "execution_count": null
  },
  {
   "metadata": {},
   "cell_type": "code",
   "source": [
    "busiest_airports = df.groupby('Origin').agg({'Flights': 'sum'}).nlargest(10, 'Flights')\n",
    "busiest_airports.plot(kind='bar')\n",
    "plt.title('Top 10 Busiest Airports by Outgoing Flights')\n",
    "plt.xlabel('Airport')\n",
    "plt.ylabel('Number of Flights')\n",
    "plt.xticks(rotation=45)\n",
    "plt.tight_layout()\n",
    "plt.show()"
   ],
   "id": "aada41fb9f1d1082",
   "outputs": [],
   "execution_count": null
  }
 ],
 "metadata": {
  "kernelspec": {
   "display_name": "Python 3",
   "language": "python",
   "name": "python3"
  },
  "language_info": {
   "codemirror_mode": {
    "name": "ipython",
    "version": 2
   },
   "file_extension": ".py",
   "mimetype": "text/x-python",
   "name": "python",
   "nbconvert_exporter": "python",
   "pygments_lexer": "ipython2",
   "version": "2.7.6"
  }
 },
 "nbformat": 4,
 "nbformat_minor": 5
}
