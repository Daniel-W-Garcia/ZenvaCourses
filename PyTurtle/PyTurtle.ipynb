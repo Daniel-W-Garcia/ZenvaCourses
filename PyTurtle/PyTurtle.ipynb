﻿{
 "cells": [
  {
   "metadata": {
    "ExecuteTime": {
     "end_time": "2025-08-07T15:39:14.742602Z",
     "start_time": "2025-08-07T15:39:14.738525Z"
    }
   },
   "cell_type": "code",
   "source": [
    "from turtle import *\n",
    "bgcolor('skyblue')"
   ],
   "id": "bdc83083d8ef44ac",
   "outputs": [],
   "execution_count": 21
  },
  {
   "metadata": {
    "ExecuteTime": {
     "end_time": "2025-08-07T15:39:15.389443Z",
     "start_time": "2025-08-07T15:39:14.777578Z"
    }
   },
   "cell_type": "code",
   "source": [
    "forward(50)\n",
    "right(90)\n",
    "forward(50)\n",
    "right(90)\n",
    "forward(50)\n",
    "right(90)\n",
    "forward(50)\n"
   ],
   "id": "374df210224d9132",
   "outputs": [],
   "execution_count": 22
  },
  {
   "metadata": {
    "ExecuteTime": {
     "end_time": "2025-08-07T15:40:31.576577Z",
     "start_time": "2025-08-07T15:40:29.154508Z"
    }
   },
   "cell_type": "code",
   "source": [
    "color('red')\n",
    "begin_fill()\n",
    "circle(50)\n",
    "penup()\n",
    "forward(100)\n",
    "pendown()\n",
    "color('blue')\n",
    "circle(50)\n",
    "end_fill()"
   ],
   "id": "c7d56aad820bf36f",
   "outputs": [],
   "execution_count": 27
  },
  {
   "metadata": {
    "ExecuteTime": {
     "end_time": "2025-08-07T15:40:26.868816Z",
     "start_time": "2025-08-07T15:40:26.325255Z"
    }
   },
   "cell_type": "code",
   "source": [
    "right(180)\n",
    "forward(300)\n",
    "clear()"
   ],
   "id": "ae0a9f0e5b589b6f",
   "outputs": [],
   "execution_count": 26
  }
 ],
 "metadata": {
  "kernelspec": {
   "display_name": "Python 3",
   "language": "python",
   "name": "python3"
  },
  "language_info": {
   "codemirror_mode": {
    "name": "ipython",
    "version": 2
   },
   "file_extension": ".py",
   "mimetype": "text/x-python",
   "name": "python",
   "nbconvert_exporter": "python",
   "pygments_lexer": "ipython2",
   "version": "2.7.6"
  }
 },
 "nbformat": 4,
 "nbformat_minor": 5
}
